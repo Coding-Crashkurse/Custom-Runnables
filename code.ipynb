{
 "cells": [
  {
   "cell_type": "code",
   "execution_count": null,
   "metadata": {},
   "outputs": [],
   "source": [
    "from langchain_core.runnables import RunnablePassthrough, RunnableLambda"
   ]
  },
  {
   "cell_type": "code",
   "execution_count": null,
   "metadata": {},
   "outputs": [],
   "source": [
    "chain = RunnablePassthrough() | RunnablePassthrough () | RunnablePassthrough ()\n",
    "chain.invoke(\"hello\")"
   ]
  },
  {
   "cell_type": "code",
   "execution_count": null,
   "metadata": {},
   "outputs": [],
   "source": [
    "def input_to_upper(input: str):\n",
    "    output = input.upper()\n",
    "    return output"
   ]
  },
  {
   "cell_type": "code",
   "execution_count": null,
   "metadata": {},
   "outputs": [],
   "source": [
    "chain = RunnablePassthrough() | RunnableLambda(input_to_upper) | RunnablePassthrough()\n",
    "chain.invoke(\"hello\")"
   ]
  },
  {
   "cell_type": "code",
   "execution_count": null,
   "metadata": {},
   "outputs": [],
   "source": [
    "from typing import Callable, TypeVar, Optional, Union, Any\n",
    "from typing import Any, Optional\n",
    "from langchain_core.runnables import Runnable\n",
    "\n",
    "Input = TypeVar(\"Input\")\n",
    "Output = TypeVar(\"Output\")\n",
    "\n",
    "class ConditionalRunnableLambda(Runnable[Input, Input]):\n",
    "    def __init__(\n",
    "        self,\n",
    "        condition: Union[Callable[[Input], bool], bool],\n",
    "        func: Callable[[Input], Output],\n",
    "        name: Optional[str] = None,\n",
    "    ):\n",
    "        self.condition = condition\n",
    "        self.func = func\n",
    "        self.name = name or \"ConditionalRunnableLambda\"\n",
    "\n",
    "    def invoke(self, input_value: Input, config: Optional[Any] = None) -> Input:\n",
    "        print(f\"ConditionalRunnableLambda.invoke called with input_value: {input_value}\")\n",
    "\n",
    "        if callable(self.condition):\n",
    "            condition_met = self.condition(input_value)\n",
    "        else:\n",
    "            condition_met = self.condition\n",
    "\n",
    "        print(f\"Condition evaluated to: {condition_met}\")\n",
    "\n",
    "        if condition_met:\n",
    "            result = self.func(input_value)\n",
    "            print(f\"Condition met. Function result: {result}\")\n",
    "            return result\n",
    "        else:\n",
    "            print(\"Condition not met. Returning input_value unchanged.\")\n",
    "            return input_value\n",
    "\n",
    "    async def ainvoke(self, input_value: Input, config: Optional[Any] = None) -> Input:\n",
    "        print(f\"ConditionalRunnableLambda.ainvoke called with input_value: {input_value}\")\n",
    "\n",
    "        if callable(self.condition):\n",
    "            condition_met = self.condition(input_value)\n",
    "        else:\n",
    "            condition_met = self.condition\n",
    "\n",
    "        print(f\"Condition evaluated to: {condition_met}\")\n",
    "\n",
    "        if condition_met:\n",
    "            result = self.func(input_value)\n",
    "            print(f\"Condition met. Function result: {result}\")\n",
    "            return result\n",
    "        else:\n",
    "            print(\"Condition not met. Returning input_value unchanged.\")\n",
    "            return input_value"
   ]
  },
  {
   "cell_type": "code",
   "execution_count": null,
   "metadata": {},
   "outputs": [],
   "source": [
    "chain = RunnablePassthrough() | ConditionalRunnableLambda(False, input_to_upper) | RunnablePassthrough()\n",
    "chain.invoke(\"hello\")"
   ]
  },
  {
   "cell_type": "code",
   "execution_count": null,
   "metadata": {},
   "outputs": [],
   "source": [
    "chain = RunnablePassthrough() | ConditionalRunnableLambda(True, input_to_upper) | RunnablePassthrough()\n",
    "chain.invoke(\"hello\")"
   ]
  },
  {
   "cell_type": "code",
   "execution_count": null,
   "metadata": {},
   "outputs": [],
   "source": [
    "from typing import Any, Optional\n",
    "from langchain_core.runnables import Runnable\n",
    "import time\n",
    "from langchain_core.runnables.utils import (\n",
    "    Input,\n",
    "    Output\n",
    ")\n",
    "\n",
    "class RetryRunnable(Runnable[Input, Output]):\n",
    "    def __init__(self, runnable: Runnable[Input, Output], retries: int, delay: float = 0.0):\n",
    "        self.runnable = runnable\n",
    "        self.retries = retries\n",
    "        self.delay = delay\n",
    "\n",
    "    def invoke(self, input_value: Input, config: Optional[Any] = None) -> Output:\n",
    "        attempts = 0\n",
    "        while attempts < self.retries:\n",
    "            try:\n",
    "                return self.runnable.invoke(input_value, config)\n",
    "            except Exception as e:\n",
    "                print(f\"Attempt {attempts} failed: {e}\")\n",
    "                attempts += 1\n",
    "                if attempts >= self.retries:\n",
    "                    raise e\n",
    "                if self.delay > 0:\n",
    "                    time.sleep(self.delay)"
   ]
  },
  {
   "cell_type": "code",
   "execution_count": null,
   "metadata": {},
   "outputs": [],
   "source": [
    "import random\n",
    "\n",
    "def sometimes_fails(input_value: str) -> str:\n",
    "    if random.random() < 0.5:\n",
    "        raise ValueError(\"Random failure occurred\")\n",
    "    return input_value.upper()\n",
    "\n",
    "retry_runnable = RetryRunnable(RunnableLambda(sometimes_fails), retries=5, delay=1)\n",
    "try:\n",
    "    result = retry_runnable.invoke(\"hello\")\n",
    "    print(f\"Result: {result}\")\n",
    "except Exception as e:\n",
    "    print(f\"Failed after retries: {e}\")"
   ]
  },
  {
   "cell_type": "code",
   "execution_count": null,
   "metadata": {},
   "outputs": [],
   "source": [
    "class FallbackRunnable(Runnable[Input, Output]):\n",
    "    def __init__(self, primary: Runnable[Input, Output], fallback: Runnable[Input, Output]):\n",
    "        self.primary = primary\n",
    "        self.fallback = fallback\n",
    "\n",
    "    def invoke(self, input_value: Input, config: Optional[Any] = None) -> Output:\n",
    "        try:\n",
    "            return self.primary.invoke(input_value, config)\n",
    "        except Exception:\n",
    "            return self.fallback.invoke(input_value, config)\n",
    "\n",
    "fallback_runnable = FallbackRunnable(\n",
    "    ConditionalRunnableLambda(True, lambda x: 1 / 0),\n",
    "    RunnableLambda(lambda x: \"fallback\")\n",
    ")\n",
    "fallback_runnable.invoke(\"hello\")"
   ]
  },
  {
   "cell_type": "code",
   "execution_count": 15,
   "metadata": {},
   "outputs": [],
   "source": [
    "from typing import Any, Optional, Dict\n",
    "from langchain_core.runnables import Runnable\n",
    "\n",
    "class CacheRunnable(Runnable):\n",
    "    def __init__(self, runnable: Runnable):\n",
    "        self.runnable = runnable\n",
    "        self.cache: Dict[Any, Any] = {}\n",
    "\n",
    "    def invoke(self, input_value: Any, config: Optional[Any] = None) -> Any:\n",
    "        if input_value in self.cache:\n",
    "            print(f\"Cache hit for input: {input_value}\")\n",
    "            return self.cache[input_value]\n",
    "        print(f\"Cache miss for input: {input_value}. Computing result...\")\n",
    "        result = self.runnable.invoke(input_value, config)\n",
    "        self.cache[input_value] = result\n",
    "        return result\n"
   ]
  },
  {
   "cell_type": "code",
   "execution_count": 21,
   "metadata": {},
   "outputs": [],
   "source": [
    "import time\n",
    "\n",
    "def time_consuming_computation(input_value: str) -> str:\n",
    "    print(f\"Starting time-consuming computation for input: {input_value}\")\n",
    "    time.sleep(2)\n",
    "    result = input_value.upper()\n",
    "    print(f\"Finished time-consuming computation for input: {input_value}\")\n",
    "    return result"
   ]
  },
  {
   "cell_type": "code",
   "execution_count": 29,
   "metadata": {},
   "outputs": [],
   "source": [
    "time_consuming_runnable = RunnableLambda(time_consuming_computation)\n",
    "cache_runnable = CacheRunnable(time_consuming_runnable)"
   ]
  },
  {
   "cell_type": "code",
   "execution_count": 32,
   "metadata": {},
   "outputs": [
    {
     "name": "stdout",
     "output_type": "stream",
     "text": [
      "Cache miss for input: hello. Computing result...\n",
      "Starting time-consuming computation for input: hello\n",
      "Finished time-consuming computation for input: hello\n"
     ]
    },
    {
     "data": {
      "text/plain": [
       "'HELLO'"
      ]
     },
     "execution_count": 32,
     "metadata": {},
     "output_type": "execute_result"
    }
   ],
   "source": [
    "chain = RunnablePassthrough() | cache_runnable | RunnablePassthrough()\n",
    "\n",
    "chain.invoke(\"hello\")"
   ]
  },
  {
   "cell_type": "code",
   "execution_count": 33,
   "metadata": {},
   "outputs": [
    {
     "name": "stdout",
     "output_type": "stream",
     "text": [
      "Cache hit for input: hello\n"
     ]
    },
    {
     "data": {
      "text/plain": [
       "'HELLO'"
      ]
     },
     "execution_count": 33,
     "metadata": {},
     "output_type": "execute_result"
    }
   ],
   "source": [
    "chain.invoke(\"hello\")"
   ]
  }
 ],
 "metadata": {
  "kernelspec": {
   "display_name": ".venv",
   "language": "python",
   "name": "python3"
  },
  "language_info": {
   "codemirror_mode": {
    "name": "ipython",
    "version": 3
   },
   "file_extension": ".py",
   "mimetype": "text/x-python",
   "name": "python",
   "nbconvert_exporter": "python",
   "pygments_lexer": "ipython3",
   "version": "3.11.0"
  }
 },
 "nbformat": 4,
 "nbformat_minor": 2
}
